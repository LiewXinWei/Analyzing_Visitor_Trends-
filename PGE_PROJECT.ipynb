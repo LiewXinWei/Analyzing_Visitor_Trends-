{
 "cells": [
  {
   "cell_type": "code",
   "execution_count": 1,
   "id": "e2abeb12-1ef2-4811-8f59-22c37b9219c2",
   "metadata": {},
   "outputs": [],
   "source": [
    "# Task 3\n",
    "import pandas as pd\n",
    "import os\n",
    "import numpy as np"
   ]
  },
  {
   "cell_type": "code",
   "execution_count": 2,
   "id": "8ec8efae-a2a3-4128-9e09-5f15021d706e",
   "metadata": {},
   "outputs": [],
   "source": [
    "# Task 7\n",
    "asia_regions = [' Brunei Darussalam ', ' Indonesia ', ' Malaysia ', ' Philippines ', ' Thailand ',\n",
    "                ' Viet Nam ', ' Myanmar ', ' Japan ', ' Hong Kong ', ' China ',' Taiwan ',\n",
    "                ' Korea, Republic Of ', ' India ', ' Pakistan ', ' Sri Lanka ', ' Saudi Arabia ', ' Kuwait ', ' UAE ']\n",
    "            \n",
    "europe_regions = [' United Kingdom ', ' Germany ', ' France ' , ' Italy ', ' Netherlands ',\n",
    "                  ' Greece ', ' Belgium & Luxembourg ', ' Switzerland ', ' Austria ',\n",
    "                  ' Scandinavia ', ' CIS & Eastern Europe ']\n",
    "    \n",
    "other_regions = [' USA ', ' Canada ', ' Australia ', ' New Zealand ', ' Africa ']"
   ]
  },
  {
   "cell_type": "code",
   "execution_count": 3,
   "id": "7058d09d-d54c-40cd-b7cd-b2cf9d53adcb",
   "metadata": {},
   "outputs": [],
   "source": [
    "class VisitorsAnalyticsUtils:\n",
    "    # Task 4 \n",
    "    def __init__(self, file_path=None, year_period=None, region=None, country=None):\n",
    "        self.df = None\n",
    "        self.year_period = year_period\n",
    "        self.region = region\n",
    "        self.country = country\n",
    "        self.parsed_df = None\n",
    "\n",
    "    def user_input(self):\n",
    "        while True:\n",
    "            try:\n",
    "                self.year_period = int(input(\"Enter year period (1: 1978-1987, 2: 1988-1997, 3: 1998-2007, 4: 2008-2017): \"))\n",
    "                if self.year_period not in {1,2,3,4}:\n",
    "                    print(\"\\nPlease enter a number from 1 to 4. Please rerun the code!\")\n",
    "                    return\n",
    "                self.region = int(input(\"Enter region (1: Asia, 2: Europe, 3: Others): \"))\n",
    "                if self.region not in {1,2,3}:\n",
    "                    print(\"\\nPlease enter a number from 1 to 3. Please rerun the code!\")\n",
    "                    return\n",
    "                break\n",
    "            except ValueError:\n",
    "                print(\"Please only enter Integers\")\n",
    "                continue\n",
    "\n",
    "    # Task 6 \n",
    "    def loadDataFile(self, file_path):\n",
    "        self.df = pd.read_csv(file_path)\n",
    "    \n",
    "        if file_path is not None:\n",
    "            print(\"**** first 5 rows of data loaded ****\")\n",
    "            columns_to_clean = asia_regions + europe_regions + other_regions\n",
    "            self.df[columns_to_clean] = self.df[columns_to_clean].replace(\",\", \"\", regex=True)\n",
    "            self.df = self.df.replace(\" na \", np.nan)\n",
    "            self.df[columns_to_clean] = self.df[columns_to_clean].apply(pd.to_numeric).fillna(0.0)\n",
    "            return self.df.head(5)\n",
    "        else:\n",
    "            print(\"Error loading data in, please recheck data!\")\n",
    "            return\n",
    "\n",
    "    # Task 7            \n",
    "    def parseData(self):\n",
    "        region_map = {1: europe_regions + other_regions, \n",
    "                      2: asia_regions + other_regions, \n",
    "                      3: asia_regions + europe_regions}\n",
    "        \n",
    "        if self.df is None:\n",
    "            print(\"No data loaded. Please load data using `loadDataFile()` before parsing.\")\n",
    "            return\n",
    "\n",
    "        if self.region not in region_map:\n",
    "            print(\"No such region\")\n",
    "            return\n",
    "    \n",
    "        self.parsed_df = self.df.drop(columns=[col for col in region_map[self.region] if col in self.df.columns])\n",
    "    \n",
    "        self.parsed_df[\"Year\"] = pd.to_numeric(self.parsed_df.iloc[:, 0].astype(str).str.strip().str[:4], errors=\"coerce\")\n",
    "    \n",
    "        year_ranges = {1: range(1978, 1988), 2: range(1988, 1998), 3: range(1998, 2008), 4: range(2008, 2018)}\n",
    "    \n",
    "        if self.year_period not in year_ranges:\n",
    "            print(\"Invalid year period. Choose between 1 to 4.\")\n",
    "            return\n",
    "    \n",
    "        self.parsed_df = self.parsed_df[self.parsed_df[\"Year\"].isin(year_ranges[self.year_period])].reset_index(drop=True)\n",
    "    \n",
    "        output_filename = f\"Filtered_Region{self.region}_Years_{year_ranges[self.year_period].start}-{year_ranges[self.year_period].stop-1}.csv\"\n",
    "        self.parsed_df.to_csv(output_filename, index=False)\n",
    "    \n",
    "        self.parsed_df = self.parsed_df.drop(self.parsed_df.columns[0], axis=1)  # Drop first column\n",
    "    \n",
    "        print(f\"Index: {self.parsed_df.shape[0]} entries, {year_ranges[self.year_period].start} Jan to {year_ranges[self.year_period].stop-1} Dec\")\n",
    "        print(f\"Saved filtered data to: {output_filename}\")\n",
    "        self.parsed_df.info()\n",
    "    \n",
    "        return f\"\\n*** Parsed Data (Years) ***\\n{self.parsed_df['Year'].describe()}\"\n",
    "        \n",
    "    # Task 8        \n",
    "    def getTop3Countries(self):\n",
    "        self.parsed_df = self.parsed_df.drop(self.parsed_df.columns[-1], axis=1)\n",
    "        region_totals = self.parsed_df.sum().sort_values(ascending=False)\n",
    "        print(\"\\n*** Top 3 countries ***\")\n",
    "        return region_totals"
   ]
  },
  {
   "cell_type": "code",
   "execution_count": 4,
   "id": "0f9f9fb3-a951-4b7e-84fe-d5c1b51b4272",
   "metadata": {},
   "outputs": [
    {
     "name": "stdin",
     "output_type": "stream",
     "text": [
      "Enter year period (1: 1978-1987, 2: 1988-1997, 3: 1998-2007, 4: 2008-2017):  3\n",
      "Enter region (1: Asia, 2: Europe, 3: Others):  3\n"
     ]
    },
    {
     "name": "stdout",
     "output_type": "stream",
     "text": [
      "**** first 5 rows of data loaded ****\n",
      "               Brunei Darussalam   Indonesia   Malaysia   Philippines   \\\n",
      "0   1978 Jan                  0.0         0.0        0.0           0.0   \n",
      "1   1978 Feb                  0.0         0.0        0.0           0.0   \n",
      "2   1978 Mar                  0.0         0.0        0.0           0.0   \n",
      "3   1978 Apr                  0.0         0.0        0.0           0.0   \n",
      "4   1978 May                  0.0         0.0        0.0           0.0   \n",
      "\n",
      "   Thailand   Viet Nam   Myanmar   Japan   Hong Kong   ...  \\\n",
      "0        0.0        0.0       0.0   18652        3148  ...   \n",
      "1        0.0        0.0       0.0   20394        5805  ...   \n",
      "2        0.0        0.0       0.0   20136        4510  ...   \n",
      "3        0.0        0.0       0.0   13508        3254  ...   \n",
      "4        0.0        0.0       0.0   14472        3212  ...   \n",
      "\n",
      "   Belgium & Luxembourg   Switzerland   Austria   Scandinavia   \\\n",
      "0                    0.0          2185       0.0          1881   \n",
      "1                    0.0          1596       0.0          2112   \n",
      "2                    0.0          1461       0.0          2183   \n",
      "3                    0.0          1472       0.0          1590   \n",
      "4                    0.0          1189       0.0          1245   \n",
      "\n",
      "   CIS & Eastern Europe    USA   Canada   Australia   New Zealand   Africa   \n",
      "0                    433   8362     1328       28421          3612      587  \n",
      "1                    514   8251     1434       13982          2521      354  \n",
      "2                    472   9901     1662       16536          2727      405  \n",
      "3                    405  11782     1586       16499          3197      736  \n",
      "4                    431  13448     2025       20690          5130      514  \n",
      "\n",
      "[5 rows x 35 columns]\n",
      "Index: 120 entries, 1998 Jan to 2007 Dec\n",
      "Saved filtered data to: Filtered_Region3_Years_1998-2007.csv\n",
      "<class 'pandas.core.frame.DataFrame'>\n",
      "RangeIndex: 120 entries, 0 to 119\n",
      "Data columns (total 6 columns):\n",
      " #   Column         Non-Null Count  Dtype\n",
      "---  ------         --------------  -----\n",
      " 0    USA           120 non-null    int64\n",
      " 1    Canada        120 non-null    int64\n",
      " 2    Australia     120 non-null    int64\n",
      " 3    New Zealand   120 non-null    int64\n",
      " 4    Africa        120 non-null    int64\n",
      " 5   Year           120 non-null    int64\n",
      "dtypes: int64(6)\n",
      "memory usage: 5.8 KB\n",
      "\n",
      "*** Parsed Data (Years) ***\n",
      "count     120.000000\n",
      "mean     2002.500000\n",
      "std         2.884324\n",
      "min      1998.000000\n",
      "25%      2000.000000\n",
      "50%      2002.500000\n",
      "75%      2005.000000\n",
      "max      2007.000000\n",
      "Name: Year, dtype: float64\n",
      "\n",
      "*** Top 3 countries ***\n",
      "Australia       5527129\n",
      "USA             3514969\n",
      "New Zealand      989725\n",
      "Africa           833109\n",
      "Canada           712490\n",
      "dtype: int64\n"
     ]
    }
   ],
   "source": [
    "if __name__ == \"__main__\":\n",
    "    analytics = VisitorsAnalyticsUtils()\n",
    "    analytics.user_input()\n",
    "    print(analytics.loadDataFile(\"Int_Monthly_Visitor.csv\"))\n",
    "    print(analytics.parseData())\n",
    "    print(analytics.getTop3Countries())"
   ]
  },
  {
   "cell_type": "markdown",
   "id": "4e91e653-c474-45d0-a7bb-3f933787d0f6",
   "metadata": {},
   "source": [
    "## The code below will run the UNIT TEST CASE"
   ]
  },
  {
   "cell_type": "code",
   "execution_count": 5,
   "id": "cc31cd76-2b76-4388-b87b-5707c11a5441",
   "metadata": {},
   "outputs": [
    {
     "name": "stderr",
     "output_type": "stream",
     "text": [
      ".\n",
      "----------------------------------------------------------------------\n",
      "Ran 1 test in 0.137s\n",
      "\n",
      "OK\n"
     ]
    },
    {
     "name": "stdout",
     "output_type": "stream",
     "text": [
      "**** first 5 rows of data loaded ****\n",
      "Number of Columns\n",
      "35\n",
      "Number of Rows\n",
      "479\n"
     ]
    }
   ],
   "source": [
    "%run test_loadDataFile.py"
   ]
  }
 ],
 "metadata": {
  "kernelspec": {
   "display_name": "practice",
   "language": "python",
   "name": "practice"
  },
  "language_info": {
   "codemirror_mode": {
    "name": "ipython",
    "version": 3
   },
   "file_extension": ".py",
   "mimetype": "text/x-python",
   "name": "python",
   "nbconvert_exporter": "python",
   "pygments_lexer": "ipython3",
   "version": "3.9.21"
  }
 },
 "nbformat": 4,
 "nbformat_minor": 5
}
